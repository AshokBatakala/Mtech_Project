{
 "cells": [
  {
   "cell_type": "markdown",
   "metadata": {},
   "source": [
    "# create keypoint images"
   ]
  },
  {
   "cell_type": "code",
   "execution_count": 5,
   "metadata": {},
   "outputs": [
    {
     "name": "stderr",
     "output_type": "stream",
     "text": [
      "/home/test/anaconda3/envs/manimate/lib/python3.8/site-packages/tqdm/auto.py:21: TqdmWarning: IProgress not found. Please update jupyter and ipywidgets. See https://ipywidgets.readthedocs.io/en/stable/user_install.html\n",
      "  from .autonotebook import tqdm as notebook_tqdm\n"
     ]
    }
   ],
   "source": [
    "import torch\n",
    "import os\n",
    "from huggingface_hub import HfApi\n",
    "from pathlib import Path\n",
    "from diffusers.utils import load_image\n",
    "from PIL import Image\n",
    "import numpy as np\n",
    "from controlnet_aux import OpenposeDetector\n",
    "\n",
    "from diffusers import (\n",
    "    ControlNetModel,\n",
    "    StableDiffusionControlNetPipeline,\n",
    "    UniPCMultistepScheduler,\n",
    ")\n",
    "\n",
    "\n",
    "checkpoint = \"lllyasviel/control_v11p_sd15_openpose\"\n",
    "processor = OpenposeDetector.from_pretrained('lllyasviel/ControlNet')\n",
    "\n",
    "\n",
    "# image = load_image(\n",
    "#     # \"https://huggingface.co/lllyasviel/control_v11p_sd15_openpose/resolve/main/images/input.png\"    \n",
    "# )\n",
    "# control_image = processor(image, hand_and_face=True)\n",
    "# control_image.save(\"./DATA/lady_standing_resized_keypoints_540.png\")\n",
    "\n"
   ]
  },
  {
   "cell_type": "code",
   "execution_count": 6,
   "metadata": {},
   "outputs": [],
   "source": [
    "# create keypoint images\n",
    "folder = \"/media/test/vcl/ASHOK_PART2/DATA/RUN_2/images\"\n",
    "output_folder = \"/media/test/vcl/ASHOK_PART2/DATA/RUN_2/keypoint_images\"\n",
    "\n",
    "image_names = os.listdir(folder)\n",
    "\n",
    "for i in image_names:\n",
    "    image = load_image(os.path.join(folder, i))\n",
    "    control_image = processor(image, hand_and_face=True)\n",
    "    control_image.save(os.path.join(output_folder, i))"
   ]
  },
  {
   "cell_type": "code",
   "execution_count": null,
   "metadata": {},
   "outputs": [],
   "source": [
    "# create videos from images\n",
    "\n",
    "images_dir = \"/media/test/vcl/ASHOK_PART2/DATA/RUN_2/seg\"\n",
    "videos_dir = \"/media/test/vcl/ASHOK_PART2/DATA/RUN_2/seg_videos\"\n",
    "video_length = 1\n",
    "\n",
    "import subprocess\n",
    "\n",
    "image_names = os.listdir(images_dir)\n",
    "for i in image_names:\n",
    "    img_path = os.path.join(images_dir, i)\n",
    "    video_path = os.path.join(videos_dir, i.split(\".\")[0] + \".mp4\")\n",
    "    command = [\"ffmpeg\", \"-loop\", \"1\", \"-i\", img_path, \"-c:v\", \"libx264\", \"-t\", str(video_length), \"-pix_fmt\", \"yuv420p\", video_path]\n",
    "    subprocess.run(command)"
   ]
  },
  {
   "cell_type": "markdown",
   "metadata": {},
   "source": [
    "# Extract image from video"
   ]
  },
  {
   "cell_type": "code",
   "execution_count": null,
   "metadata": {},
   "outputs": [],
   "source": [
    "# #extract one frame from video using ffmpeg\n",
    "# video_path = \"/media/test/vcl/ASHOK_PART2/Mtech_Project/demo/outputs/with_pose_controlnet.mp4\"\n",
    "# output_path = \"/media/test/vcl/ASHOK_PART2/Mtech_Project/demo/outputs/with_pose_controlnet.jpg\"\n",
    "\n",
    "# command = [\"ffmpeg\", \"-i\", video_path, \"-vf\", \"select=eq(n\\,0)\", output_path]\n",
    "# subprocess.run(command)"
   ]
  },
  {
   "cell_type": "code",
   "execution_count": null,
   "metadata": {},
   "outputs": [],
   "source": [
    "vidoes_dir = \"/media/test/vcl/ASHOK_PART2/DATA/RUN_2/MA_results_fat\"\n",
    "names = os.listdir(vidoes_dir)\n",
    "\n",
    "images_dir =\"/media/test/vcl/ASHOK_PART2/Mtech_Project/DATA/only_seg_results\"\n",
    "\n",
    "for i in names:\n",
    "    video_path = os.path.join(vidoes_dir, i)\n",
    "    output_path = os.path.join(images_dir, i.split(\".\")[0] + \".jpg\")\n",
    "    command = [\"ffmpeg\", \"-i\", video_path, \"-vf\", \"select=eq(n\\,0)\", output_path]\n",
    "    subprocess.run(command)\n",
    "    "
   ]
  }
 ],
 "metadata": {
  "kernelspec": {
   "display_name": "manimate",
   "language": "python",
   "name": "python3"
  },
  "language_info": {
   "codemirror_mode": {
    "name": "ipython",
    "version": 3
   },
   "file_extension": ".py",
   "mimetype": "text/x-python",
   "name": "python",
   "nbconvert_exporter": "python",
   "pygments_lexer": "ipython3",
   "version": "3.8.5"
  }
 },
 "nbformat": 4,
 "nbformat_minor": 2
}
