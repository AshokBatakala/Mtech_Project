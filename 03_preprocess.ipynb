{
 "cells": [
  {
   "cell_type": "markdown",
   "metadata": {},
   "source": [
    "# create keypoint images"
   ]
  },
  {
   "cell_type": "code",
   "execution_count": 2,
   "metadata": {},
   "outputs": [],
   "source": [
    "import torch\n",
    "import os\n",
    "from huggingface_hub import HfApi\n",
    "from pathlib import Path\n",
    "from diffusers.utils import load_image\n",
    "from PIL import Image\n",
    "import numpy as np\n",
    "# from controlnet_aux import OpenposeDetector\n",
    "from external_libraries.controlnet_aux import OpenposeDetector\n",
    "\n",
    "from diffusers import (\n",
    "    ControlNetModel,\n",
    "    StableDiffusionControlNetPipeline,\n",
    "    UniPCMultistepScheduler,\n",
    ")\n",
    "    \n",
    "\n",
    "checkpoint = \"lllyasviel/control_v11p_sd15_openpose\"\n",
    "processor = OpenposeDetector.from_pretrained('lllyasviel/ControlNet')\n",
    "\n"
   ]
  },
  {
   "cell_type": "code",
   "execution_count": 3,
   "metadata": {},
   "outputs": [
    {
     "name": "stdout",
     "output_type": "stream",
     "text": [
      "drawing the keypoints\n"
     ]
    }
   ],
   "source": [
    "\n",
    "image = load_image(\n",
    "# \"https://huggingface.co/lllyasviel/control_v11p_sd15_openpose/resolve/main/images/input.png\"    \n",
    "\"/media/test/vcl/ASHOK_PART2/Mtech_Project/DATA/lab_presentation/lady_standing_540.jpg\"\n",
    ")\n",
    "control_image = processor(image, hand_and_face=True)\n",
    "# control_image.save(\"./DATA/lady_standing_resized_keypoints_540.png\")\n",
    "\n",
    "#show the image\n",
    "control_image.show()\n"
   ]
  },
  {
   "cell_type": "code",
   "execution_count": 4,
   "metadata": {},
   "outputs": [
    {
     "name": "stdout",
     "output_type": "stream",
     "text": [
      "/home/test/anaconda3/envs/manimate/lib/python3.8/site-packages/controlnet_aux/__init__.py\n"
     ]
    }
   ],
   "source": [
    "import controlnet_aux\n",
    "print(controlnet_aux.__file__) # /home/test/anaconda3/envs/manimate/lib/python3.8/site-packages/controlnet_aux/open_pose/util.py \n",
    "# change the radius in that file."
   ]
  },
  {
   "cell_type": "code",
   "execution_count": 6,
   "metadata": {},
   "outputs": [],
   "source": [
    "# create keypoint images\n",
    "folder = \"/media/test/vcl/ASHOK_PART2/DATA/RUN_2/images\"\n",
    "output_folder = \"/media/test/vcl/ASHOK_PART2/DATA/RUN_2/keypoint_images\"\n",
    "\n",
    "image_names = os.listdir(folder)\n",
    "\n",
    "for i in image_names:\n",
    "    image = load_image(os.path.join(folder, i))\n",
    "    control_image = processor(image, hand_and_face=True)\n",
    "    control_image.save(os.path.join(output_folder, i))"
   ]
  },
  {
   "cell_type": "code",
   "execution_count": null,
   "metadata": {},
   "outputs": [],
   "source": [
    "# create videos from images\n",
    "\n",
    "images_dir = \"/media/test/vcl/ASHOK_PART2/DATA/RUN_2/seg\"\n",
    "videos_dir = \"/media/test/vcl/ASHOK_PART2/DATA/RUN_2/seg_videos\"\n",
    "video_length = 1\n",
    "\n",
    "import subprocess\n",
    "\n",
    "image_names = os.listdir(images_dir)\n",
    "for i in image_names:\n",
    "    img_path = os.path.join(images_dir, i)\n",
    "    video_path = os.path.join(videos_dir, i.split(\".\")[0] + \".mp4\")\n",
    "    command = [\"ffmpeg\", \"-loop\", \"1\", \"-i\", img_path, \"-c:v\", \"libx264\", \"-t\", str(video_length), \"-pix_fmt\", \"yuv420p\", video_path]\n",
    "    subprocess.run(command)"
   ]
  },
  {
   "cell_type": "markdown",
   "metadata": {},
   "source": [
    "## single image to video"
   ]
  },
  {
   "cell_type": "code",
   "execution_count": 1,
   "metadata": {},
   "outputs": [],
   "source": [
    "import os\n",
    "def image_to_video(image_path, video_path, time=0.5):\n",
    "    # os.system(\"ffmpeg -loop 1 -i {} -c:v libx264 -t {} -pix_fmt yuv420p {}\".format(image_path, time, video_path))\n",
    "    # Unknown encoder 'libx264'; so use some other encoder\n",
    "    os.system(\"ffmpeg -loop 1 -i {} -c:v mpeg4 -t {} -pix_fmt yuv420p {}\".format(image_path, time, video_path))\n"
   ]
  },
  {
   "cell_type": "code",
   "execution_count": null,
   "metadata": {},
   "outputs": [],
   "source": [
    "image_path = \"/media/test/vcl/ASHOK_PART2/Mtech_Project/DATA/champ_download/champ_motions_example/motions/motion-01/semantic_map/0001_all.png\"\n",
    "video_path=\"/media/test/vcl/ASHOK_PART2/Mtech_Project/DATA/sample4.mp4\"\n",
    "\n",
    "image_to_video(image_path, video_path, time=1)"
   ]
  },
  {
   "cell_type": "code",
   "execution_count": 7,
   "metadata": {},
   "outputs": [
    {
     "name": "stderr",
     "output_type": "stream",
     "text": [
      "OpenCV: FFMPEG: tag 0x58564944/'DIVX' is not supported with codec id 12 and format 'mp4 / MP4 (MPEG-4 Part 14)'\n",
      "OpenCV: FFMPEG: fallback to use tag 0x7634706d/'mp4v'\n"
     ]
    }
   ],
   "source": [
    "# for single image to video\n",
    "image_path = \"/media/test/vcl/ASHOK_PART2/Mtech_Project/DATA/champ_download/champ_motions_example/motions/motion-01/semantic_map/0001_all.png\"\n",
    "video_path=\"/media/test/vcl/ASHOK_PART2/Mtech_Project/DATA/sample3.mp4\"\n",
    "# command = [\"ffmpeg\", \"-loop\", \"1\", \"-i\", image_path, \"-c:v\", \"libx264\", \"-t\", str(1), \"-pix_fmt\", \"yuv420p\", video_path]\n",
    "# import subprocess\n",
    "# subprocess.run(command)\n",
    "# !ffmpeg -loop 1 -i {image_path} -c:v libx264 -t 1 -pix_fmt yuv420p {video_path}\n",
    "\n",
    "# using cv2\n",
    "import cv2\n",
    "import numpy as np\n",
    "\n",
    "image = cv2.imread(image_path)\n",
    "height, width, layers = image.shape\n",
    "size = (width,height)\n",
    "out = cv2.VideoWriter(video_path, cv2.VideoWriter_fourcc(*'DIVX'), 1, size)\n",
    "out.write(image)\n",
    "out.release()\n"
   ]
  },
  {
   "cell_type": "markdown",
   "metadata": {},
   "source": [
    "# Extract image from video"
   ]
  },
  {
   "cell_type": "code",
   "execution_count": null,
   "metadata": {},
   "outputs": [],
   "source": [
    "# #extract one frame from video using ffmpeg\n",
    "# video_path = \"/media/test/vcl/ASHOK_PART2/Mtech_Project/demo/outputs/with_pose_controlnet.mp4\"\n",
    "# output_path = \"/media/test/vcl/ASHOK_PART2/Mtech_Project/demo/outputs/with_pose_controlnet.jpg\"\n",
    "\n",
    "# command = [\"ffmpeg\", \"-i\", video_path, \"-vf\", \"select=eq(n\\,0)\", output_path]\n",
    "# subprocess.run(command)"
   ]
  },
  {
   "cell_type": "code",
   "execution_count": null,
   "metadata": {},
   "outputs": [],
   "source": [
    "vidoes_dir = \"/media/test/vcl/ASHOK_PART2/DATA/RUN_2/MA_results_fat\"\n",
    "names = os.listdir(vidoes_dir)\n",
    "\n",
    "images_dir =\"/media/test/vcl/ASHOK_PART2/Mtech_Project/DATA/only_seg_results\"\n",
    "\n",
    "for i in names:\n",
    "    video_path = os.path.join(vidoes_dir, i)\n",
    "    output_path = os.path.join(images_dir, i.split(\".\")[0] + \".jpg\")\n",
    "    command = [\"ffmpeg\", \"-i\", video_path, \"-vf\", \"select=eq(n\\,0)\", output_path]\n",
    "    subprocess.run(command)\n",
    "    "
   ]
  },
  {
   "cell_type": "code",
   "execution_count": null,
   "metadata": {},
   "outputs": [],
   "source": []
  }
 ],
 "metadata": {
  "kernelspec": {
   "display_name": "manimate",
   "language": "python",
   "name": "python3"
  },
  "language_info": {
   "codemirror_mode": {
    "name": "ipython",
    "version": 3
   },
   "file_extension": ".py",
   "mimetype": "text/x-python",
   "name": "python",
   "nbconvert_exporter": "python",
   "pygments_lexer": "ipython3",
   "version": "3.8.5"
  }
 },
 "nbformat": 4,
 "nbformat_minor": 2
}
