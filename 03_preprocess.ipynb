{
 "cells": [
  {
   "cell_type": "markdown",
   "metadata": {},
   "source": [
    "# create keypoint images"
   ]
  },
  {
   "cell_type": "code",
   "execution_count": 5,
   "metadata": {},
   "outputs": [
    {
     "name": "stderr",
     "output_type": "stream",
     "text": [
      "/home/test/anaconda3/envs/manimate/lib/python3.8/site-packages/tqdm/auto.py:21: TqdmWarning: IProgress not found. Please update jupyter and ipywidgets. See https://ipywidgets.readthedocs.io/en/stable/user_install.html\n",
      "  from .autonotebook import tqdm as notebook_tqdm\n"
     ]
    }
   ],
   "source": [
    "import torch\n",
    "import os\n",
    "from huggingface_hub import HfApi\n",
    "from pathlib import Path\n",
    "from diffusers.utils import load_image\n",
    "from PIL import Image\n",
    "import numpy as np\n",
    "from controlnet_aux import OpenposeDetector\n",
    "\n",
    "from diffusers import (\n",
    "    ControlNetModel,\n",
    "    StableDiffusionControlNetPipeline,\n",
    "    UniPCMultistepScheduler,\n",
    ")\n",
    "    \n",
    "\n",
    "checkpoint = \"lllyasviel/control_v11p_sd15_openpose\"\n",
    "processor = OpenposeDetector.from_pretrained('lllyasviel/ControlNet')\n",
    "\n",
    "\n",
    "# image = load_image(\n",
    "#     # \"https://huggingface.co/lllyasviel/control_v11p_sd15_openpose/resolve/main/images/input.png\"    \n",
    "# )\n",
    "# control_image = processor(image, hand_and_face=True)\n",
    "# control_image.save(\"./DATA/lady_standing_resized_keypoints_540.png\")\n",
    "\n"
   ]
  },
  {
   "cell_type": "code",
   "execution_count": 6,
   "metadata": {},
   "outputs": [],
   "source": [
    "# create keypoint images\n",
    "folder = \"/media/test/vcl/ASHOK_PART2/DATA/RUN_2/images\"\n",
    "output_folder = \"/media/test/vcl/ASHOK_PART2/DATA/RUN_2/keypoint_images\"\n",
    "\n",
    "image_names = os.listdir(folder)\n",
    "\n",
    "for i in image_names:\n",
    "    image = load_image(os.path.join(folder, i))\n",
    "    control_image = processor(image, hand_and_face=True)\n",
    "    control_image.save(os.path.join(output_folder, i))"
   ]
  },
  {
   "cell_type": "code",
   "execution_count": null,
   "metadata": {},
   "outputs": [],
   "source": [
    "# create videos from images\n",
    "\n",
    "images_dir = \"/media/test/vcl/ASHOK_PART2/DATA/RUN_2/seg\"\n",
    "videos_dir = \"/media/test/vcl/ASHOK_PART2/DATA/RUN_2/seg_videos\"\n",
    "video_length = 1\n",
    "\n",
    "import subprocess\n",
    "\n",
    "image_names = os.listdir(images_dir)\n",
    "for i in image_names:\n",
    "    img_path = os.path.join(images_dir, i)\n",
    "    video_path = os.path.join(videos_dir, i.split(\".\")[0] + \".mp4\")\n",
    "    command = [\"ffmpeg\", \"-loop\", \"1\", \"-i\", img_path, \"-c:v\", \"libx264\", \"-t\", str(video_length), \"-pix_fmt\", \"yuv420p\", video_path]\n",
    "    subprocess.run(command)"
   ]
  },
  {
   "cell_type": "markdown",
   "metadata": {},
   "source": [
    "## single image to video"
   ]
  },
  {
   "cell_type": "code",
   "execution_count": 1,
   "metadata": {},
   "outputs": [],
   "source": [
    "import os\n",
    "def image_to_video(image_path, video_path, time=0.5):\n",
    "    # os.system(\"ffmpeg -loop 1 -i {} -c:v libx264 -t {} -pix_fmt yuv420p {}\".format(image_path, time, video_path))\n",
    "    # Unknown encoder 'libx264'; so use some other encoder\n",
    "    os.system(\"ffmpeg -loop 1 -i {} -c:v mpeg4 -t {} -pix_fmt yuv420p {}\".format(image_path, time, video_path))\n"
   ]
  },
  {
   "cell_type": "code",
   "execution_count": 2,
   "metadata": {},
   "outputs": [
    {
     "name": "stderr",
     "output_type": "stream",
     "text": [
      "ffmpeg version 4.4.2-0ubuntu0.22.04.1 Copyright (c) 2000-2021 the FFmpeg developers\n",
      "  built with gcc 11 (Ubuntu 11.2.0-19ubuntu1)\n",
      "  configuration: --prefix=/usr --extra-version=0ubuntu0.22.04.1 --toolchain=hardened --libdir=/usr/lib/x86_64-linux-gnu --incdir=/usr/include/x86_64-linux-gnu --arch=amd64 --enable-gpl --disable-stripping --enable-gnutls --enable-ladspa --enable-libaom --enable-libass --enable-libbluray --enable-libbs2b --enable-libcaca --enable-libcdio --enable-libcodec2 --enable-libdav1d --enable-libflite --enable-libfontconfig --enable-libfreetype --enable-libfribidi --enable-libgme --enable-libgsm --enable-libjack --enable-libmp3lame --enable-libmysofa --enable-libopenjpeg --enable-libopenmpt --enable-libopus --enable-libpulse --enable-librabbitmq --enable-librubberband --enable-libshine --enable-libsnappy --enable-libsoxr --enable-libspeex --enable-libsrt --enable-libssh --enable-libtheora --enable-libtwolame --enable-libvidstab --enable-libvorbis --enable-libvpx --enable-libwebp --enable-libx265 --enable-libxml2 --enable-libxvid --enable-libzimg --enable-libzmq --enable-libzvbi --enable-lv2 --enable-omx --enable-openal --enable-opencl --enable-opengl --enable-sdl2 --enable-pocketsphinx --enable-librsvg --enable-libmfx --enable-libdc1394 --enable-libdrm --enable-libiec61883 --enable-chromaprint --enable-frei0r --enable-libx264 --enable-shared\n",
      "  libavutil      56. 70.100 / 56. 70.100\n",
      "  libavcodec     58.134.100 / 58.134.100\n",
      "  libavformat    58. 76.100 / 58. 76.100\n",
      "  libavdevice    58. 13.100 / 58. 13.100\n",
      "  libavfilter     7.110.100 /  7.110.100\n",
      "  libswscale      5.  9.100 /  5.  9.100\n",
      "  libswresample   3.  9.100 /  3.  9.100\n",
      "  libpostproc    55.  9.100 / 55.  9.100\n",
      "Input #0, png_pipe, from '/media/test/vcl/ASHOK_PART2/Mtech_Project/DATA/champ_download/champ_motions_example/motions/motion-01/semantic_map/0001_all.png':\n",
      "  Duration: N/A, bitrate: N/A\n",
      "  Stream #0:0: Video: png, rgb24(pc), 236x319 [SAR 2835:2835 DAR 236:319], 25 fps, 25 tbr, 25 tbn, 25 tbc\n",
      "Stream mapping:\n",
      "  Stream #0:0 -> #0:0 (png (native) -> mpeg4 (native))\n",
      "Press [q] to stop, [?] for help\n",
      "Output #0, mp4, to '/media/test/vcl/ASHOK_PART2/Mtech_Project/DATA/sample4.mp4':\n",
      "  Metadata:\n",
      "    encoder         : Lavf58.76.100\n",
      "  Stream #0:0: Video: mpeg4 (mp4v / 0x7634706D), yuv420p(tv, progressive), 236x319 [SAR 1:1 DAR 236:319], q=2-31, 200 kb/s, 25 fps, 12800 tbn\n",
      "    Metadata:\n",
      "      encoder         : Lavc58.134.100 mpeg4\n",
      "    Side data:\n",
      "      cpb: bitrate max/min/avg: 0/0/200000 buffer size: 0 vbv_delay: N/A\n",
      "frame=   25 fps=0.0 q=1.6 Lsize=      29kB time=00:00:00.96 bitrate= 244.5kbits/s speed=15.5x      \n",
      "video:28kB audio:0kB subtitle:0kB other streams:0kB global headers:0kB muxing overhead: 3.549878%\n"
     ]
    }
   ],
   "source": [
    "image_path = \"/media/test/vcl/ASHOK_PART2/Mtech_Project/DATA/champ_download/champ_motions_example/motions/motion-01/semantic_map/0001_all.png\"\n",
    "video_path=\"/media/test/vcl/ASHOK_PART2/Mtech_Project/DATA/sample4.mp4\"\n",
    "\n",
    "image_to_video(image_path, video_path, time=1)"
   ]
  },
  {
   "cell_type": "code",
   "execution_count": 7,
   "metadata": {},
   "outputs": [
    {
     "name": "stderr",
     "output_type": "stream",
     "text": [
      "OpenCV: FFMPEG: tag 0x58564944/'DIVX' is not supported with codec id 12 and format 'mp4 / MP4 (MPEG-4 Part 14)'\n",
      "OpenCV: FFMPEG: fallback to use tag 0x7634706d/'mp4v'\n"
     ]
    }
   ],
   "source": [
    "# for single image to video\n",
    "image_path = \"/media/test/vcl/ASHOK_PART2/Mtech_Project/DATA/champ_download/champ_motions_example/motions/motion-01/semantic_map/0001_all.png\"\n",
    "video_path=\"/media/test/vcl/ASHOK_PART2/Mtech_Project/DATA/sample3.mp4\"\n",
    "# command = [\"ffmpeg\", \"-loop\", \"1\", \"-i\", image_path, \"-c:v\", \"libx264\", \"-t\", str(1), \"-pix_fmt\", \"yuv420p\", video_path]\n",
    "# import subprocess\n",
    "# subprocess.run(command)\n",
    "# !ffmpeg -loop 1 -i {image_path} -c:v libx264 -t 1 -pix_fmt yuv420p {video_path}\n",
    "\n",
    "# using cv2\n",
    "import cv2\n",
    "import numpy as np\n",
    "\n",
    "image = cv2.imread(image_path)\n",
    "height, width, layers = image.shape\n",
    "size = (width,height)\n",
    "out = cv2.VideoWriter(video_path, cv2.VideoWriter_fourcc(*'DIVX'), 1, size)\n",
    "out.write(image)\n",
    "out.release()\n"
   ]
  },
  {
   "cell_type": "markdown",
   "metadata": {},
   "source": [
    "# Extract image from video"
   ]
  },
  {
   "cell_type": "code",
   "execution_count": null,
   "metadata": {},
   "outputs": [],
   "source": [
    "# #extract one frame from video using ffmpeg\n",
    "# video_path = \"/media/test/vcl/ASHOK_PART2/Mtech_Project/demo/outputs/with_pose_controlnet.mp4\"\n",
    "# output_path = \"/media/test/vcl/ASHOK_PART2/Mtech_Project/demo/outputs/with_pose_controlnet.jpg\"\n",
    "\n",
    "# command = [\"ffmpeg\", \"-i\", video_path, \"-vf\", \"select=eq(n\\,0)\", output_path]\n",
    "# subprocess.run(command)"
   ]
  },
  {
   "cell_type": "code",
   "execution_count": null,
   "metadata": {},
   "outputs": [],
   "source": [
    "vidoes_dir = \"/media/test/vcl/ASHOK_PART2/DATA/RUN_2/MA_results_fat\"\n",
    "names = os.listdir(vidoes_dir)\n",
    "\n",
    "images_dir =\"/media/test/vcl/ASHOK_PART2/Mtech_Project/DATA/only_seg_results\"\n",
    "\n",
    "for i in names:\n",
    "    video_path = os.path.join(vidoes_dir, i)\n",
    "    output_path = os.path.join(images_dir, i.split(\".\")[0] + \".jpg\")\n",
    "    command = [\"ffmpeg\", \"-i\", video_path, \"-vf\", \"select=eq(n\\,0)\", output_path]\n",
    "    subprocess.run(command)\n",
    "    "
   ]
  },
  {
   "cell_type": "code",
   "execution_count": null,
   "metadata": {},
   "outputs": [],
   "source": []
  }
 ],
 "metadata": {
  "kernelspec": {
   "display_name": "manimate",
   "language": "python",
   "name": "python3"
  },
  "language_info": {
   "codemirror_mode": {
    "name": "ipython",
    "version": 3
   },
   "file_extension": ".py",
   "mimetype": "text/x-python",
   "name": "python",
   "nbconvert_exporter": "python",
   "pygments_lexer": "ipython3",
   "version": "3.8.5"
  }
 },
 "nbformat": 4,
 "nbformat_minor": 2
}
