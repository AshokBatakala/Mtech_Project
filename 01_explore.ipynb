{
 "cells": [
  {
   "cell_type": "markdown",
   "metadata": {},
   "source": [
    "# openpose controlnet\n",
    "https://huggingface.co/lllyasviel/control_v11p_sd15_openpose  \n",
    "\n",
    "running it with `manimate` "
   ]
  },
  {
   "cell_type": "code",
   "execution_count": 19,
   "metadata": {},
   "outputs": [],
   "source": [
    "import torch\n",
    "import os\n",
    "from huggingface_hub import HfApi\n",
    "from pathlib import Path\n",
    "from diffusers.utils import load_image\n",
    "from PIL import Image\n",
    "import numpy as np\n",
    "from controlnet_aux import OpenposeDetector\n",
    "\n",
    "from diffusers import (\n",
    "    ControlNetModel,\n",
    "    StableDiffusionControlNetPipeline,\n",
    "    UniPCMultistepScheduler,\n",
    ")\n",
    "\n",
    "\n",
    "checkpoint = \"lllyasviel/control_v11p_sd15_openpose\"\n",
    "processor = OpenposeDetector.from_pretrained('lllyasviel/ControlNet')\n",
    "\n",
    "\n",
    "image = load_image(\n",
    "    # \"https://huggingface.co/lllyasviel/control_v11p_sd15_openpose/resolve/main/images/input.png\"\n",
    "    # \"/media/test/vcl/ASHOK_PART2/Mtech_Project/DATA/sample_datapoint/demo4_copy.png\"\n",
    "    # \"/media/test/vcl/ASHOK_PART2/DATA/data_Ashok/lady_standing_resized.jpg\"\n",
    "    \"/media/test/vcl/ASHOK_PART2/Mtech_Project/DATA/lab_presentation/lady_standing_540.jpg\"\n",
    "    \n",
    ")\n",
    "\n",
    "# prompt = [\"chef in the kitchen\"]*4\n",
    "\n",
    "\n",
    "control_image = processor(image, hand_and_face=True)\n",
    "control_image.save(\"./DATA/lady_standing_resized_keypoints_540.png\")\n",
    "\n"
   ]
  },
  {
   "cell_type": "code",
   "execution_count": 22,
   "metadata": {},
   "outputs": [],
   "source": [
    "\n",
    "checkpoint = \"lllyasviel/control_v11p_sd15_openpose\"\n",
    "processor = OpenposeDetector.from_pretrained('lllyasviel/ControlNet')\n",
    "\n",
    "\n",
    "image = load_image(\n",
    "    # \"https://huggingface.co/lllyasviel/control_v11p_sd15_openpose/resolve/main/images/input.png\"\n",
    "    # \"/media/test/vcl/ASHOK_PART2/Mtech_Project/DATA/sample_datapoint/demo4_copy.png\"\n",
    "    # \"/media/test/vcl/ASHOK_PART2/DATA/data_Ashok/lady_standing_resized.jpg\"\n",
    "    \"/media/test/vcl/ASHOK_PART2/Mtech_Project/DATA/lab_presentation/lady_standing_540.jpg\"\n",
    "    \n",
    ")\n",
    "\n",
    "# prompt = [\"chef in the kitchen\"]*4\n",
    "\n",
    "\n",
    "control_image = processor(image, hand_and_face=True)\n",
    "control_image.save(\"./DATA/lady_standing_resized_keypoints_540.png\")\n",
    "\n"
   ]
  },
  {
   "cell_type": "code",
   "execution_count": null,
   "metadata": {},
   "outputs": [],
   "source": [
    "controlnet = ControlNetModel.from_pretrained(checkpoint, torch_dtype=torch.float16)\n",
    "pipe = StableDiffusionControlNetPipeline.from_pretrained(\n",
    "    \"runwayml/stable-diffusion-v1-5\", controlnet=controlnet, torch_dtype=torch.float16\n",
    ")\n",
    "\n",
    "pipe.scheduler = UniPCMultistepScheduler.from_config(pipe.scheduler.config)\n",
    "pipe.enable_model_cpu_offload()\n",
    "\n",
    "generator = torch.manual_seed(10)\n",
    "image = pipe(prompt, num_inference_steps=100, generator=generator, image=control_image).images[0]\n",
    "\n",
    "image.save('DATA/image_out.png')\n"
   ]
  },
  {
   "cell_type": "markdown",
   "metadata": {},
   "source": [
    "# explore pipeline\n"
   ]
  },
  {
   "cell_type": "code",
   "execution_count": 18,
   "metadata": {},
   "outputs": [],
   "source": [
    "#imports \n",
    "from diffusers import ControlNetModel\n",
    "keypoint_controlnet = ControlNetModel.from_pretrained(\"lllyasviel/control_v11p_sd15_openpose\",cache_dir =\"/media/test/vcl/ASHOK_PART2/Mtech_Project/pretrained_models\")\n"
   ]
  }
 ],
 "metadata": {
  "kernelspec": {
   "display_name": "manimate",
   "language": "python",
   "name": "python3"
  },
  "language_info": {
   "codemirror_mode": {
    "name": "ipython",
    "version": 3
   },
   "file_extension": ".py",
   "mimetype": "text/x-python",
   "name": "python",
   "nbconvert_exporter": "python",
   "pygments_lexer": "ipython3",
   "version": "3.8.5"
  }
 },
 "nbformat": 4,
 "nbformat_minor": 2
}
