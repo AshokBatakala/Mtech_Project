{
 "cells": [
  {
   "cell_type": "markdown",
   "metadata": {},
   "source": [
    "# run magicAnimate\n",
    "Run MagicAnimate with 2 control nets."
   ]
  },
  {
   "cell_type": "code",
   "execution_count": 1,
   "metadata": {},
   "outputs": [],
   "source": [
    "import os \n",
    "# os.chdir(\"/media/Ext_4T_SSD/ASHOK_PART2/magic-animate\")\n",
    "os.chdir(\"/media/test/vcl/ASHOK_PART2/Mtech_Project\")\n",
    "\n",
    "\n",
    "import numpy as np\n",
    "import pandas as pd\n",
    "import matplotlib.pyplot as plt\n",
    "from PIL import Image\n",
    "\n",
    "# os.environ['CUDA_VISIBLE_DEVICES'] = '0'"
   ]
  },
  {
   "cell_type": "code",
   "execution_count": null,
   "metadata": {},
   "outputs": [],
   "source": [
    "import argparse\n",
    "import imageio\n",
    "import numpy as np\n",
    "import gradio as gr\n",
    "from PIL import Image\n",
    "from demo.animate import MagicAnimate\n",
    "\n",
    "animator = MagicAnimate()\n"
   ]
  },
  {
   "cell_type": "code",
   "execution_count": 3,
   "metadata": {},
   "outputs": [],
   "source": [
    "\n",
    "# def animate(*args, **kwargs):\n",
    "#     print(\"running animate\")\n",
    "#     return animator(*args, **kwargs)\n",
    "\n",
    "# Define a function to read a video file\n",
    "def read_video(video):\n",
    "    reader = imageio.get_reader(video)\n",
    "    fps = reader.get_meta_data()['fps']\n",
    "    return video\n",
    "\n",
    "# Define a function to read an image file\n",
    "def read_image(image, size=512):\n",
    "    return np.array(Image.fromarray(image).resize((size, size)))\n",
    "\n"
   ]
  },
  {
   "cell_type": "code",
   "execution_count": 4,
   "metadata": {},
   "outputs": [],
   "source": [
    "# Example inputs\n",
    "reference_image_path = \"/media/test/vcl/ASHOK_PART2/Mtech_Project/DATA/lab_presentation/lady_standing_540.jpg\"\n",
    "motion_sequence_path = \"/media/test/vcl/ASHOK_PART2/Mtech_Project/DATA/lab_presentation/seg_videos/segmentation_mask_fat_1.mp4\"\n",
    "motion_sequence_path_keypoints = \"/media/test/vcl/ASHOK_PART2/Mtech_Project/DATA/lab_presentation/lady_standing_resized_keypoints_540.mp4\"\n"
   ]
  },
  {
   "cell_type": "code",
   "execution_count": 10,
   "metadata": {},
   "outputs": [
    {
     "name": "stderr",
     "output_type": "stream",
     "text": [
      "100%|██████████| 25/25 [01:37<00:00,  3.90s/it]\n",
      "100%|██████████| 32/32 [00:02<00:00, 15.58it/s]\n",
      "IMAGEIO FFMPEG_WRITER WARNING: input image is not divisible by macro_block_size=16, resizing from (1544, 516) to (1552, 528) to ensure video compatibility with most codecs and players. To prevent resizing, make your input image divisible by the macro_block_size or set the macro_block_size to 1 (risking incompatibility).\n",
      "[swscaler @ 0x6e79dc0] Warning: data is not aligned! This can lead to a speed loss\n"
     ]
    }
   ],
   "source": [
    "\n",
    "# # Example inputs\n",
    "# reference_image_path = \"/media/test/vcl/ASHOK_PART2/Mtech_Project/DATA/sample_datapoint/demo4.png\"\n",
    "# motion_sequence_path = \"/media/test/vcl/ASHOK_PART2/Mtech_Project/DATA/sample_datapoint/demo4.mp4\"\n",
    "# motion_sequence_path_keypoints = \"/media/test/vcl/ASHOK_PART2/Mtech_Project/DATA/sample_datapoint/control_keypoint_demo4.mp4\"\n",
    "\n",
    "random_seed = 1\n",
    "sampling_steps = 25\n",
    "guidance_scale = 7.5\n",
    "controlnet_weights = [0.5,0.5] # segmentation mask, keypoints\n",
    "\n",
    "# Read the reference image and motion sequence\n",
    "reference_image = read_image(np.array(Image.open(reference_image_path)))\n",
    "motion_sequence = read_video(motion_sequence_path)\n",
    "motion_sequence_keypoints = read_video(motion_sequence_path_keypoints)\n",
    "\n",
    "result = animator(reference_image, motion_sequence, random_seed, sampling_steps, guidance_scale,\n",
    "                  motion_sequence_keypoints=motion_sequence_keypoints,\n",
    "                    controlnet_weights=controlnet_weights)"
   ]
  },
  {
   "cell_type": "markdown",
   "metadata": {},
   "source": [
    "# running with folder in loop : for lab presentation"
   ]
  },
  {
   "cell_type": "code",
   "execution_count": null,
   "metadata": {},
   "outputs": [],
   "source": [
    "images_folder = '/media/test/vcl/ASHOK_PART2/DATA/RUN_2/images'\n",
    "image_names = os.listdir(images_folder)\n",
    "\n",
    "seg_videos_folder = '/media/test/vcl/ASHOK_PART2/DATA/RUN_2/seg_videos'\n",
    "keypoint_videos_folder = '/media/test/vcl/ASHOK_PART2/DATA/RUN_2/keypoint_videos'\n",
    "\n",
    "\n",
    "for image_name in image_names: \n",
    "    # # Example inputs\n",
    "    # reference_image_path = \"/media/test/vcl/ASHOK_PART2/Mtech_Project/DATA/lab_presentation/lady_standing_540.jpg\"\n",
    "    # motion_sequence_path = \"/media/test/vcl/ASHOK_PART2/Mtech_Project/DATA/lab_presentation/seg_videos/segmentation_mask_fat_1.mp4\"\n",
    "    # motion_sequence_path_keypoints = \"/media/test/vcl/ASHOK_PART2/Mtech_Project/DATA/lab_presentation/lady_standing_resized_keypoints_540.mp4\"\n",
    "    \n",
    "    reference_image_path = os.path.join(images_folder, image_name)\n",
    "    motion_sequence_path = os.path.join(seg_videos_folder, image_name.split('.')[0] + '.mp4')\n",
    "    motion_sequence_path_keypoints = os.path.join(keypoint_videos_folder, image_name.split('.')[0] + '.mp4')\n",
    "    \n",
    "    #check if the file exists\n",
    "    if not os.path.exists(motion_sequence_path):\n",
    "        continue\n",
    "    #\n",
    "\n",
    "    random_seed = 1\n",
    "    sampling_steps = 25\n",
    "    guidance_scale = 7.5\n",
    "\n",
    "    # Read the reference image and motion sequence\n",
    "    reference_image = read_image(np.array(Image.open(reference_image_path)))\n",
    "    motion_sequence = read_video(motion_sequence_path)\n",
    "    motion_sequence_keypoints = read_video(motion_sequence_path_keypoints)\n",
    "\n",
    "    result = animator(reference_image, motion_sequence, random_seed, sampling_steps, guidance_scale, motion_sequence_keypoints=motion_sequence_keypoints)"
   ]
  },
  {
   "cell_type": "code",
   "execution_count": null,
   "metadata": {},
   "outputs": [],
   "source": []
  }
 ],
 "metadata": {
  "kernelspec": {
   "display_name": "manimate",
   "language": "python",
   "name": "python3"
  },
  "language_info": {
   "codemirror_mode": {
    "name": "ipython",
    "version": 3
   },
   "file_extension": ".py",
   "mimetype": "text/x-python",
   "name": "python",
   "nbconvert_exporter": "python",
   "pygments_lexer": "ipython3",
   "version": "3.8.5"
  }
 },
 "nbformat": 4,
 "nbformat_minor": 2
}
